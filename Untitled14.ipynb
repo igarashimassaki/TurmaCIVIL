{
  "nbformat": 4,
  "nbformat_minor": 0,
  "metadata": {
    "colab": {
      "provenance": [],
      "authorship_tag": "ABX9TyOzOhHSI/+KBH1XntnkwmeQ",
      "include_colab_link": true
    },
    "kernelspec": {
      "name": "python3",
      "display_name": "Python 3"
    },
    "language_info": {
      "name": "python"
    }
  },
  "cells": [
    {
      "cell_type": "markdown",
      "metadata": {
        "id": "view-in-github",
        "colab_type": "text"
      },
      "source": [
        "<a href=\"https://colab.research.google.com/github/igarashimassaki/TurmaCIVIL/blob/main/Untitled14.ipynb\" target=\"_parent\"><img src=\"https://colab.research.google.com/assets/colab-badge.svg\" alt=\"Open In Colab\"/></a>"
      ]
    },
    {
      "cell_type": "markdown",
      "source": [
        "#**Explicações do meu professor**\n",
        "Aqui vou anotar as observações do meu professor"
      ],
      "metadata": {
        "id": "Z_ZonthPn13z"
      }
    },
    {
      "cell_type": "code",
      "execution_count": 4,
      "metadata": {
        "colab": {
          "base_uri": "https://localhost:8080/"
        },
        "id": "nzw56byvnUhh",
        "outputId": "f64c84ef-f8d0-4616-b1d1-bb00c0350c61"
      },
      "outputs": [
        {
          "output_type": "stream",
          "name": "stdout",
          "text": [
            "<class 'str'>\n",
            "<class 'str'>\n",
            "<class 'str'>\n",
            "23.0\n"
          ]
        }
      ],
      "source": [
        "#Comentário\n",
        "a = \"2\"\n",
        "print(type(a))\n",
        "b = \"3.0\"\n",
        "print(type(b))\n",
        "soma = a+b\n",
        "print(type(soma))\n",
        "print(soma)"
      ]
    },
    {
      "cell_type": "code",
      "source": [
        "num = int(input(\"Digite um número: \"))\n",
        "quoc = num//2\n",
        "resto = num%2\n",
        "print(\"Quociente = \",quoc)\n",
        "print(\"Resto = \",resto)\n"
      ],
      "metadata": {
        "colab": {
          "base_uri": "https://localhost:8080/"
        },
        "id": "_30BDuRapYvx",
        "outputId": "88c6298c-0af5-40fa-9e9a-06b598e3b7f6"
      },
      "execution_count": 7,
      "outputs": [
        {
          "output_type": "stream",
          "name": "stdout",
          "text": [
            "Digite um número: 9\n",
            "Quociente =  4\n",
            "Resto =  1\n"
          ]
        }
      ]
    },
    {
      "cell_type": "markdown",
      "source": [
        "PROGRAMA PARA CALCULAR A MÉDIA DE 2 VALORES"
      ],
      "metadata": {
        "id": "sr6mju5PqQr5"
      }
    },
    {
      "cell_type": "code",
      "source": [
        "v1 = int(input(\"Digite valor 1: \"))\n",
        "v2 = int(input(\"Digite valor 2: \"))\n",
        "media = (v1+v2)/2\n",
        "print(\"A média é: \",media)"
      ],
      "metadata": {
        "colab": {
          "base_uri": "https://localhost:8080/"
        },
        "id": "DgeMoyN7qO_x",
        "outputId": "e6a0effa-da48-46d2-fb7c-b163ea801920"
      },
      "execution_count": 8,
      "outputs": [
        {
          "output_type": "stream",
          "name": "stdout",
          "text": [
            "Digite valor 1: 5\n",
            "Digite valor 2: 6\n",
            "A média é:  5.5\n"
          ]
        }
      ]
    }
  ]
}